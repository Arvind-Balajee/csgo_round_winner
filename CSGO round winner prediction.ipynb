{
 "cells": [
  {
   "cell_type": "markdown",
   "metadata": {},
   "source": [
    "# CSGO round winner prediction"
   ]
  },
  {
   "cell_type": "markdown",
   "metadata": {},
   "source": [
    "### data: https://www.kaggle.com/christianlillelund/csgo-round-winner-classification"
   ]
  },
  {
   "cell_type": "markdown",
   "metadata": {},
   "source": [
    "# What is CSGO?"
   ]
  },
  {
   "cell_type": "markdown",
   "metadata": {},
   "source": [
    "CSGO(Counter Strike Global-Offencive) is a round based tactical shooter between CT(Counter terrorist) and T(Terrorist) where we buy equipments usig in game cash that is provided by the game in each round. The overall goal is that the terrorist must plant a bomb while the counter terrorist must stop them or defuse the bomb."
   ]
  },
  {
   "cell_type": "markdown",
   "metadata": {},
   "source": [
    "## Importing libraries"
   ]
  },
  {
   "cell_type": "code",
   "execution_count": 119,
   "metadata": {},
   "outputs": [],
   "source": [
    "import pandas as pd\n",
    "import numpy as np\n",
    "import matplotlib.pyplot as plt\n",
    "from sklearn import preprocessing\n",
    "from sklearn.model_selection import train_test_split\n",
    "%matplotlib inline\n",
    "import seaborn as sns\n",
    "from sklearn.linear_model import LogisticRegression\n",
    "from sklearn.tree import DecisionTreeClassifier\n",
    "from sklearn.ensemble import RandomForestClassifier\n",
    "from xgboost import XGBClassifier\n",
    "from sklearn.linear_model import LogisticRegression\n",
    "from sklearn.metrics import classification_report,accuracy_score\n",
    "from sklearn.neural_network import MLPClassifier "
   ]
  },
  {
   "cell_type": "markdown",
   "metadata": {},
   "source": [
    "## importing data"
   ]
  },
  {
   "cell_type": "code",
   "execution_count": 71,
   "metadata": {},
   "outputs": [],
   "source": [
    "df = pd.read_csv('csgo_round_snapshots.csv')"
   ]
  },
  {
   "cell_type": "code",
   "execution_count": 72,
   "metadata": {},
   "outputs": [
    {
     "data": {
      "text/html": [
       "<div>\n",
       "<style scoped>\n",
       "    .dataframe tbody tr th:only-of-type {\n",
       "        vertical-align: middle;\n",
       "    }\n",
       "\n",
       "    .dataframe tbody tr th {\n",
       "        vertical-align: top;\n",
       "    }\n",
       "\n",
       "    .dataframe thead th {\n",
       "        text-align: right;\n",
       "    }\n",
       "</style>\n",
       "<table border=\"1\" class=\"dataframe\">\n",
       "  <thead>\n",
       "    <tr style=\"text-align: right;\">\n",
       "      <th></th>\n",
       "      <th>time_left</th>\n",
       "      <th>ct_score</th>\n",
       "      <th>t_score</th>\n",
       "      <th>map</th>\n",
       "      <th>bomb_planted</th>\n",
       "      <th>ct_health</th>\n",
       "      <th>t_health</th>\n",
       "      <th>ct_armor</th>\n",
       "      <th>t_armor</th>\n",
       "      <th>ct_money</th>\n",
       "      <th>...</th>\n",
       "      <th>t_grenade_flashbang</th>\n",
       "      <th>ct_grenade_smokegrenade</th>\n",
       "      <th>t_grenade_smokegrenade</th>\n",
       "      <th>ct_grenade_incendiarygrenade</th>\n",
       "      <th>t_grenade_incendiarygrenade</th>\n",
       "      <th>ct_grenade_molotovgrenade</th>\n",
       "      <th>t_grenade_molotovgrenade</th>\n",
       "      <th>ct_grenade_decoygrenade</th>\n",
       "      <th>t_grenade_decoygrenade</th>\n",
       "      <th>round_winner</th>\n",
       "    </tr>\n",
       "  </thead>\n",
       "  <tbody>\n",
       "    <tr>\n",
       "      <td>0</td>\n",
       "      <td>175.00</td>\n",
       "      <td>0.0</td>\n",
       "      <td>0.0</td>\n",
       "      <td>de_dust2</td>\n",
       "      <td>False</td>\n",
       "      <td>500.0</td>\n",
       "      <td>500.0</td>\n",
       "      <td>0.0</td>\n",
       "      <td>0.0</td>\n",
       "      <td>4000.0</td>\n",
       "      <td>...</td>\n",
       "      <td>0.0</td>\n",
       "      <td>0.0</td>\n",
       "      <td>0.0</td>\n",
       "      <td>0.0</td>\n",
       "      <td>0.0</td>\n",
       "      <td>0.0</td>\n",
       "      <td>0.0</td>\n",
       "      <td>0.0</td>\n",
       "      <td>0.0</td>\n",
       "      <td>CT</td>\n",
       "    </tr>\n",
       "    <tr>\n",
       "      <td>1</td>\n",
       "      <td>156.03</td>\n",
       "      <td>0.0</td>\n",
       "      <td>0.0</td>\n",
       "      <td>de_dust2</td>\n",
       "      <td>False</td>\n",
       "      <td>500.0</td>\n",
       "      <td>500.0</td>\n",
       "      <td>400.0</td>\n",
       "      <td>300.0</td>\n",
       "      <td>600.0</td>\n",
       "      <td>...</td>\n",
       "      <td>0.0</td>\n",
       "      <td>0.0</td>\n",
       "      <td>2.0</td>\n",
       "      <td>0.0</td>\n",
       "      <td>0.0</td>\n",
       "      <td>0.0</td>\n",
       "      <td>0.0</td>\n",
       "      <td>0.0</td>\n",
       "      <td>0.0</td>\n",
       "      <td>CT</td>\n",
       "    </tr>\n",
       "    <tr>\n",
       "      <td>2</td>\n",
       "      <td>96.03</td>\n",
       "      <td>0.0</td>\n",
       "      <td>0.0</td>\n",
       "      <td>de_dust2</td>\n",
       "      <td>False</td>\n",
       "      <td>391.0</td>\n",
       "      <td>400.0</td>\n",
       "      <td>294.0</td>\n",
       "      <td>200.0</td>\n",
       "      <td>750.0</td>\n",
       "      <td>...</td>\n",
       "      <td>0.0</td>\n",
       "      <td>0.0</td>\n",
       "      <td>2.0</td>\n",
       "      <td>0.0</td>\n",
       "      <td>0.0</td>\n",
       "      <td>0.0</td>\n",
       "      <td>0.0</td>\n",
       "      <td>0.0</td>\n",
       "      <td>0.0</td>\n",
       "      <td>CT</td>\n",
       "    </tr>\n",
       "    <tr>\n",
       "      <td>3</td>\n",
       "      <td>76.03</td>\n",
       "      <td>0.0</td>\n",
       "      <td>0.0</td>\n",
       "      <td>de_dust2</td>\n",
       "      <td>False</td>\n",
       "      <td>391.0</td>\n",
       "      <td>400.0</td>\n",
       "      <td>294.0</td>\n",
       "      <td>200.0</td>\n",
       "      <td>750.0</td>\n",
       "      <td>...</td>\n",
       "      <td>0.0</td>\n",
       "      <td>0.0</td>\n",
       "      <td>0.0</td>\n",
       "      <td>0.0</td>\n",
       "      <td>0.0</td>\n",
       "      <td>0.0</td>\n",
       "      <td>0.0</td>\n",
       "      <td>0.0</td>\n",
       "      <td>0.0</td>\n",
       "      <td>CT</td>\n",
       "    </tr>\n",
       "    <tr>\n",
       "      <td>4</td>\n",
       "      <td>174.97</td>\n",
       "      <td>1.0</td>\n",
       "      <td>0.0</td>\n",
       "      <td>de_dust2</td>\n",
       "      <td>False</td>\n",
       "      <td>500.0</td>\n",
       "      <td>500.0</td>\n",
       "      <td>192.0</td>\n",
       "      <td>0.0</td>\n",
       "      <td>18350.0</td>\n",
       "      <td>...</td>\n",
       "      <td>0.0</td>\n",
       "      <td>0.0</td>\n",
       "      <td>0.0</td>\n",
       "      <td>0.0</td>\n",
       "      <td>0.0</td>\n",
       "      <td>0.0</td>\n",
       "      <td>0.0</td>\n",
       "      <td>0.0</td>\n",
       "      <td>0.0</td>\n",
       "      <td>CT</td>\n",
       "    </tr>\n",
       "  </tbody>\n",
       "</table>\n",
       "<p>5 rows × 97 columns</p>\n",
       "</div>"
      ],
      "text/plain": [
       "   time_left  ct_score  t_score       map  bomb_planted  ct_health  t_health  \\\n",
       "0     175.00       0.0      0.0  de_dust2         False      500.0     500.0   \n",
       "1     156.03       0.0      0.0  de_dust2         False      500.0     500.0   \n",
       "2      96.03       0.0      0.0  de_dust2         False      391.0     400.0   \n",
       "3      76.03       0.0      0.0  de_dust2         False      391.0     400.0   \n",
       "4     174.97       1.0      0.0  de_dust2         False      500.0     500.0   \n",
       "\n",
       "   ct_armor  t_armor  ct_money  ...  t_grenade_flashbang  \\\n",
       "0       0.0      0.0    4000.0  ...                  0.0   \n",
       "1     400.0    300.0     600.0  ...                  0.0   \n",
       "2     294.0    200.0     750.0  ...                  0.0   \n",
       "3     294.0    200.0     750.0  ...                  0.0   \n",
       "4     192.0      0.0   18350.0  ...                  0.0   \n",
       "\n",
       "   ct_grenade_smokegrenade  t_grenade_smokegrenade  \\\n",
       "0                      0.0                     0.0   \n",
       "1                      0.0                     2.0   \n",
       "2                      0.0                     2.0   \n",
       "3                      0.0                     0.0   \n",
       "4                      0.0                     0.0   \n",
       "\n",
       "   ct_grenade_incendiarygrenade  t_grenade_incendiarygrenade  \\\n",
       "0                           0.0                          0.0   \n",
       "1                           0.0                          0.0   \n",
       "2                           0.0                          0.0   \n",
       "3                           0.0                          0.0   \n",
       "4                           0.0                          0.0   \n",
       "\n",
       "   ct_grenade_molotovgrenade  t_grenade_molotovgrenade  \\\n",
       "0                        0.0                       0.0   \n",
       "1                        0.0                       0.0   \n",
       "2                        0.0                       0.0   \n",
       "3                        0.0                       0.0   \n",
       "4                        0.0                       0.0   \n",
       "\n",
       "   ct_grenade_decoygrenade  t_grenade_decoygrenade  round_winner  \n",
       "0                      0.0                     0.0            CT  \n",
       "1                      0.0                     0.0            CT  \n",
       "2                      0.0                     0.0            CT  \n",
       "3                      0.0                     0.0            CT  \n",
       "4                      0.0                     0.0            CT  \n",
       "\n",
       "[5 rows x 97 columns]"
      ]
     },
     "execution_count": 72,
     "metadata": {},
     "output_type": "execute_result"
    }
   ],
   "source": [
    "df.head()"
   ]
  },
  {
   "cell_type": "markdown",
   "metadata": {},
   "source": [
    "## Data preprocessing"
   ]
  },
  {
   "cell_type": "code",
   "execution_count": 73,
   "metadata": {},
   "outputs": [
    {
     "data": {
      "text/plain": [
       "time_left                    0\n",
       "ct_score                     0\n",
       "t_score                      0\n",
       "map                          0\n",
       "bomb_planted                 0\n",
       "                            ..\n",
       "ct_grenade_molotovgrenade    0\n",
       "t_grenade_molotovgrenade     0\n",
       "ct_grenade_decoygrenade      0\n",
       "t_grenade_decoygrenade       0\n",
       "round_winner                 0\n",
       "Length: 97, dtype: int64"
      ]
     },
     "execution_count": 73,
     "metadata": {},
     "output_type": "execute_result"
    }
   ],
   "source": [
    "df.isnull().sum() # finding nulls"
   ]
  },
  {
   "cell_type": "code",
   "execution_count": 74,
   "metadata": {},
   "outputs": [
    {
     "data": {
      "text/plain": [
       "<matplotlib.axes._subplots.AxesSubplot at 0x14920bcfd48>"
      ]
     },
     "execution_count": 74,
     "metadata": {},
     "output_type": "execute_result"
    },
    {
     "data": {
      "image/png": "[encoded data removed]",
      "text/plain": [
       "<Figure size 432x288 with 1 Axes>"
      ]
     },
     "metadata": {
      "needs_background": "light"
     },
     "output_type": "display_data"
    }
   ],
   "source": [
    "sns.countplot(df['round_winner'])"
   ]
  },
  {
   "cell_type": "markdown",
   "metadata": {},
   "source": [
    "The data is quiet evenly split on the label column"
   ]
  },
  {
   "cell_type": "code",
   "execution_count": 75,
   "metadata": {},
   "outputs": [],
   "source": [
    "col = df.columns"
   ]
  },
  {
   "cell_type": "code",
   "execution_count": 76,
   "metadata": {},
   "outputs": [],
   "source": [
    "# checking for columns for only one value\n",
    "t=[]\n",
    "for i in col:\n",
    "    t.append(df[i].nunique())\n"
   ]
  },
  {
   "cell_type": "code",
   "execution_count": 77,
   "metadata": {
    "scrolled": true
   },
   "outputs": [
    {
     "name": "stdout",
     "output_type": "stream",
     "text": [
      "22\n",
      "30\n",
      "37\n",
      "52\n",
      "58\n",
      "60\n"
     ]
    }
   ],
   "source": [
    "# all the columns with only one value\n",
    "temp =[]\n",
    "for i in range(len(t)):\n",
    "    if t[i]==1:\n",
    "        temp.append(i)\n",
    "        print(i)"
   ]
  },
  {
   "cell_type": "code",
   "execution_count": 78,
   "metadata": {},
   "outputs": [
    {
     "data": {
      "text/plain": [
       "<matplotlib.axes._subplots.AxesSubplot at 0x149029b7488>"
      ]
     },
     "execution_count": 78,
     "metadata": {},
     "output_type": "execute_result"
    },
    {
     "data": {
      "image/png": "[encoded data removed]",
      "text/plain": [
       "<Figure size 432x288 with 1 Axes>"
      ]
     },
     "metadata": {
      "needs_background": "light"
     },
     "output_type": "display_data"
    }
   ],
   "source": [
    "sns.countplot(df[col[22]])"
   ]
  },
  {
   "cell_type": "code",
   "execution_count": 79,
   "metadata": {},
   "outputs": [
    {
     "name": "stdout",
     "output_type": "stream",
     "text": [
      "ct_weapon_bizon\n",
      "ct_weapon_g3sg1\n",
      "t_weapon_m249\n",
      "ct_weapon_negev\n",
      "ct_weapon_r8revolver\n",
      "ct_weapon_sawedoff\n"
     ]
    }
   ],
   "source": [
    "df.drop([col[22], col[30], col[37], col[52], col[58], col[60]], axis = 1, inplace = True) # dropping those columns\n",
    "print(col[22])\n",
    "print(col[30])\n",
    "print(col[37])\n",
    "print(col[52])\n",
    "print(col[58])\n",
    "print(col[60])"
   ]
  },
  {
   "cell_type": "code",
   "execution_count": 80,
   "metadata": {},
   "outputs": [
    {
     "data": {
      "text/html": [
       "<div>\n",
       "<style scoped>\n",
       "    .dataframe tbody tr th:only-of-type {\n",
       "        vertical-align: middle;\n",
       "    }\n",
       "\n",
       "    .dataframe tbody tr th {\n",
       "        vertical-align: top;\n",
       "    }\n",
       "\n",
       "    .dataframe thead th {\n",
       "        text-align: right;\n",
       "    }\n",
       "</style>\n",
       "<table border=\"1\" class=\"dataframe\">\n",
       "  <thead>\n",
       "    <tr style=\"text-align: right;\">\n",
       "      <th></th>\n",
       "      <th>time_left</th>\n",
       "      <th>ct_score</th>\n",
       "      <th>t_score</th>\n",
       "      <th>map</th>\n",
       "      <th>bomb_planted</th>\n",
       "      <th>ct_health</th>\n",
       "      <th>t_health</th>\n",
       "      <th>ct_armor</th>\n",
       "      <th>t_armor</th>\n",
       "      <th>ct_money</th>\n",
       "      <th>...</th>\n",
       "      <th>t_grenade_flashbang</th>\n",
       "      <th>ct_grenade_smokegrenade</th>\n",
       "      <th>t_grenade_smokegrenade</th>\n",
       "      <th>ct_grenade_incendiarygrenade</th>\n",
       "      <th>t_grenade_incendiarygrenade</th>\n",
       "      <th>ct_grenade_molotovgrenade</th>\n",
       "      <th>t_grenade_molotovgrenade</th>\n",
       "      <th>ct_grenade_decoygrenade</th>\n",
       "      <th>t_grenade_decoygrenade</th>\n",
       "      <th>round_winner</th>\n",
       "    </tr>\n",
       "  </thead>\n",
       "  <tbody>\n",
       "    <tr>\n",
       "      <td>0</td>\n",
       "      <td>175.00</td>\n",
       "      <td>0.0</td>\n",
       "      <td>0.0</td>\n",
       "      <td>de_dust2</td>\n",
       "      <td>False</td>\n",
       "      <td>500.0</td>\n",
       "      <td>500.0</td>\n",
       "      <td>0.0</td>\n",
       "      <td>0.0</td>\n",
       "      <td>4000.0</td>\n",
       "      <td>...</td>\n",
       "      <td>0.0</td>\n",
       "      <td>0.0</td>\n",
       "      <td>0.0</td>\n",
       "      <td>0.0</td>\n",
       "      <td>0.0</td>\n",
       "      <td>0.0</td>\n",
       "      <td>0.0</td>\n",
       "      <td>0.0</td>\n",
       "      <td>0.0</td>\n",
       "      <td>CT</td>\n",
       "    </tr>\n",
       "    <tr>\n",
       "      <td>1</td>\n",
       "      <td>156.03</td>\n",
       "      <td>0.0</td>\n",
       "      <td>0.0</td>\n",
       "      <td>de_dust2</td>\n",
       "      <td>False</td>\n",
       "      <td>500.0</td>\n",
       "      <td>500.0</td>\n",
       "      <td>400.0</td>\n",
       "      <td>300.0</td>\n",
       "      <td>600.0</td>\n",
       "      <td>...</td>\n",
       "      <td>0.0</td>\n",
       "      <td>0.0</td>\n",
       "      <td>2.0</td>\n",
       "      <td>0.0</td>\n",
       "      <td>0.0</td>\n",
       "      <td>0.0</td>\n",
       "      <td>0.0</td>\n",
       "      <td>0.0</td>\n",
       "      <td>0.0</td>\n",
       "      <td>CT</td>\n",
       "    </tr>\n",
       "    <tr>\n",
       "      <td>2</td>\n",
       "      <td>96.03</td>\n",
       "      <td>0.0</td>\n",
       "      <td>0.0</td>\n",
       "      <td>de_dust2</td>\n",
       "      <td>False</td>\n",
       "      <td>391.0</td>\n",
       "      <td>400.0</td>\n",
       "      <td>294.0</td>\n",
       "      <td>200.0</td>\n",
       "      <td>750.0</td>\n",
       "      <td>...</td>\n",
       "      <td>0.0</td>\n",
       "      <td>0.0</td>\n",
       "      <td>2.0</td>\n",
       "      <td>0.0</td>\n",
       "      <td>0.0</td>\n",
       "      <td>0.0</td>\n",
       "      <td>0.0</td>\n",
       "      <td>0.0</td>\n",
       "      <td>0.0</td>\n",
       "      <td>CT</td>\n",
       "    </tr>\n",
       "    <tr>\n",
       "      <td>3</td>\n",
       "      <td>76.03</td>\n",
       "      <td>0.0</td>\n",
       "      <td>0.0</td>\n",
       "      <td>de_dust2</td>\n",
       "      <td>False</td>\n",
       "      <td>391.0</td>\n",
       "      <td>400.0</td>\n",
       "      <td>294.0</td>\n",
       "      <td>200.0</td>\n",
       "      <td>750.0</td>\n",
       "      <td>...</td>\n",
       "      <td>0.0</td>\n",
       "      <td>0.0</td>\n",
       "      <td>0.0</td>\n",
       "      <td>0.0</td>\n",
       "      <td>0.0</td>\n",
       "      <td>0.0</td>\n",
       "      <td>0.0</td>\n",
       "      <td>0.0</td>\n",
       "      <td>0.0</td>\n",
       "      <td>CT</td>\n",
       "    </tr>\n",
       "    <tr>\n",
       "      <td>4</td>\n",
       "      <td>174.97</td>\n",
       "      <td>1.0</td>\n",
       "      <td>0.0</td>\n",
       "      <td>de_dust2</td>\n",
       "      <td>False</td>\n",
       "      <td>500.0</td>\n",
       "      <td>500.0</td>\n",
       "      <td>192.0</td>\n",
       "      <td>0.0</td>\n",
       "      <td>18350.0</td>\n",
       "      <td>...</td>\n",
       "      <td>0.0</td>\n",
       "      <td>0.0</td>\n",
       "      <td>0.0</td>\n",
       "      <td>0.0</td>\n",
       "      <td>0.0</td>\n",
       "      <td>0.0</td>\n",
       "      <td>0.0</td>\n",
       "      <td>0.0</td>\n",
       "      <td>0.0</td>\n",
       "      <td>CT</td>\n",
       "    </tr>\n",
       "  </tbody>\n",
       "</table>\n",
       "<p>5 rows × 91 columns</p>\n",
       "</div>"
      ],
      "text/plain": [
       "   time_left  ct_score  t_score       map  bomb_planted  ct_health  t_health  \\\n",
       "0     175.00       0.0      0.0  de_dust2         False      500.0     500.0   \n",
       "1     156.03       0.0      0.0  de_dust2         False      500.0     500.0   \n",
       "2      96.03       0.0      0.0  de_dust2         False      391.0     400.0   \n",
       "3      76.03       0.0      0.0  de_dust2         False      391.0     400.0   \n",
       "4     174.97       1.0      0.0  de_dust2         False      500.0     500.0   \n",
       "\n",
       "   ct_armor  t_armor  ct_money  ...  t_grenade_flashbang  \\\n",
       "0       0.0      0.0    4000.0  ...                  0.0   \n",
       "1     400.0    300.0     600.0  ...                  0.0   \n",
       "2     294.0    200.0     750.0  ...                  0.0   \n",
       "3     294.0    200.0     750.0  ...                  0.0   \n",
       "4     192.0      0.0   18350.0  ...                  0.0   \n",
       "\n",
       "   ct_grenade_smokegrenade  t_grenade_smokegrenade  \\\n",
       "0                      0.0                     0.0   \n",
       "1                      0.0                     2.0   \n",
       "2                      0.0                     2.0   \n",
       "3                      0.0                     0.0   \n",
       "4                      0.0                     0.0   \n",
       "\n",
       "   ct_grenade_incendiarygrenade  t_grenade_incendiarygrenade  \\\n",
       "0                           0.0                          0.0   \n",
       "1                           0.0                          0.0   \n",
       "2                           0.0                          0.0   \n",
       "3                           0.0                          0.0   \n",
       "4                           0.0                          0.0   \n",
       "\n",
       "   ct_grenade_molotovgrenade  t_grenade_molotovgrenade  \\\n",
       "0                        0.0                       0.0   \n",
       "1                        0.0                       0.0   \n",
       "2                        0.0                       0.0   \n",
       "3                        0.0                       0.0   \n",
       "4                        0.0                       0.0   \n",
       "\n",
       "   ct_grenade_decoygrenade  t_grenade_decoygrenade  round_winner  \n",
       "0                      0.0                     0.0            CT  \n",
       "1                      0.0                     0.0            CT  \n",
       "2                      0.0                     0.0            CT  \n",
       "3                      0.0                     0.0            CT  \n",
       "4                      0.0                     0.0            CT  \n",
       "\n",
       "[5 rows x 91 columns]"
      ]
     },
     "execution_count": 80,
     "metadata": {},
     "output_type": "execute_result"
    }
   ],
   "source": [
    "df.head()"
   ]
  },
  {
   "cell_type": "markdown",
   "metadata": {},
   "source": [
    "### label encoding all categorical values"
   ]
  },
  {
   "cell_type": "code",
   "execution_count": 81,
   "metadata": {},
   "outputs": [],
   "source": [
    "label_encoder = preprocessing.LabelEncoder() \n",
    "df['map'] = label_encoder.fit_transform(df['map'])"
   ]
  },
  {
   "cell_type": "code",
   "execution_count": 82,
   "metadata": {},
   "outputs": [],
   "source": [
    "df['bomb_planted'] = label_encoder.fit_transform(df['bomb_planted'])"
   ]
  },
  {
   "cell_type": "code",
   "execution_count": 83,
   "metadata": {},
   "outputs": [],
   "source": [
    "df['round_winner'] = label_encoder.fit_transform(df['round_winner'])"
   ]
  },
  {
   "cell_type": "code",
   "execution_count": 84,
   "metadata": {},
   "outputs": [
    {
     "data": {
      "text/html": [
       "<div>\n",
       "<style scoped>\n",
       "    .dataframe tbody tr th:only-of-type {\n",
       "        vertical-align: middle;\n",
       "    }\n",
       "\n",
       "    .dataframe tbody tr th {\n",
       "        vertical-align: top;\n",
       "    }\n",
       "\n",
       "    .dataframe thead th {\n",
       "        text-align: right;\n",
       "    }\n",
       "</style>\n",
       "<table border=\"1\" class=\"dataframe\">\n",
       "  <thead>\n",
       "    <tr style=\"text-align: right;\">\n",
       "      <th></th>\n",
       "      <th>time_left</th>\n",
       "      <th>ct_score</th>\n",
       "      <th>t_score</th>\n",
       "      <th>map</th>\n",
       "      <th>bomb_planted</th>\n",
       "      <th>ct_health</th>\n",
       "      <th>t_health</th>\n",
       "      <th>ct_armor</th>\n",
       "      <th>t_armor</th>\n",
       "      <th>ct_money</th>\n",
       "      <th>...</th>\n",
       "      <th>t_grenade_flashbang</th>\n",
       "      <th>ct_grenade_smokegrenade</th>\n",
       "      <th>t_grenade_smokegrenade</th>\n",
       "      <th>ct_grenade_incendiarygrenade</th>\n",
       "      <th>t_grenade_incendiarygrenade</th>\n",
       "      <th>ct_grenade_molotovgrenade</th>\n",
       "      <th>t_grenade_molotovgrenade</th>\n",
       "      <th>ct_grenade_decoygrenade</th>\n",
       "      <th>t_grenade_decoygrenade</th>\n",
       "      <th>round_winner</th>\n",
       "    </tr>\n",
       "  </thead>\n",
       "  <tbody>\n",
       "    <tr>\n",
       "      <td>0</td>\n",
       "      <td>175.00</td>\n",
       "      <td>0.0</td>\n",
       "      <td>0.0</td>\n",
       "      <td>1</td>\n",
       "      <td>0</td>\n",
       "      <td>500.0</td>\n",
       "      <td>500.0</td>\n",
       "      <td>0.0</td>\n",
       "      <td>0.0</td>\n",
       "      <td>4000.0</td>\n",
       "      <td>...</td>\n",
       "      <td>0.0</td>\n",
       "      <td>0.0</td>\n",
       "      <td>0.0</td>\n",
       "      <td>0.0</td>\n",
       "      <td>0.0</td>\n",
       "      <td>0.0</td>\n",
       "      <td>0.0</td>\n",
       "      <td>0.0</td>\n",
       "      <td>0.0</td>\n",
       "      <td>0</td>\n",
       "    </tr>\n",
       "    <tr>\n",
       "      <td>1</td>\n",
       "      <td>156.03</td>\n",
       "      <td>0.0</td>\n",
       "      <td>0.0</td>\n",
       "      <td>1</td>\n",
       "      <td>0</td>\n",
       "      <td>500.0</td>\n",
       "      <td>500.0</td>\n",
       "      <td>400.0</td>\n",
       "      <td>300.0</td>\n",
       "      <td>600.0</td>\n",
       "      <td>...</td>\n",
       "      <td>0.0</td>\n",
       "      <td>0.0</td>\n",
       "      <td>2.0</td>\n",
       "      <td>0.0</td>\n",
       "      <td>0.0</td>\n",
       "      <td>0.0</td>\n",
       "      <td>0.0</td>\n",
       "      <td>0.0</td>\n",
       "      <td>0.0</td>\n",
       "      <td>0</td>\n",
       "    </tr>\n",
       "    <tr>\n",
       "      <td>2</td>\n",
       "      <td>96.03</td>\n",
       "      <td>0.0</td>\n",
       "      <td>0.0</td>\n",
       "      <td>1</td>\n",
       "      <td>0</td>\n",
       "      <td>391.0</td>\n",
       "      <td>400.0</td>\n",
       "      <td>294.0</td>\n",
       "      <td>200.0</td>\n",
       "      <td>750.0</td>\n",
       "      <td>...</td>\n",
       "      <td>0.0</td>\n",
       "      <td>0.0</td>\n",
       "      <td>2.0</td>\n",
       "      <td>0.0</td>\n",
       "      <td>0.0</td>\n",
       "      <td>0.0</td>\n",
       "      <td>0.0</td>\n",
       "      <td>0.0</td>\n",
       "      <td>0.0</td>\n",
       "      <td>0</td>\n",
       "    </tr>\n",
       "    <tr>\n",
       "      <td>3</td>\n",
       "      <td>76.03</td>\n",
       "      <td>0.0</td>\n",
       "      <td>0.0</td>\n",
       "      <td>1</td>\n",
       "      <td>0</td>\n",
       "      <td>391.0</td>\n",
       "      <td>400.0</td>\n",
       "      <td>294.0</td>\n",
       "      <td>200.0</td>\n",
       "      <td>750.0</td>\n",
       "      <td>...</td>\n",
       "      <td>0.0</td>\n",
       "      <td>0.0</td>\n",
       "      <td>0.0</td>\n",
       "      <td>0.0</td>\n",
       "      <td>0.0</td>\n",
       "      <td>0.0</td>\n",
       "      <td>0.0</td>\n",
       "      <td>0.0</td>\n",
       "      <td>0.0</td>\n",
       "      <td>0</td>\n",
       "    </tr>\n",
       "    <tr>\n",
       "      <td>4</td>\n",
       "      <td>174.97</td>\n",
       "      <td>1.0</td>\n",
       "      <td>0.0</td>\n",
       "      <td>1</td>\n",
       "      <td>0</td>\n",
       "      <td>500.0</td>\n",
       "      <td>500.0</td>\n",
       "      <td>192.0</td>\n",
       "      <td>0.0</td>\n",
       "      <td>18350.0</td>\n",
       "      <td>...</td>\n",
       "      <td>0.0</td>\n",
       "      <td>0.0</td>\n",
       "      <td>0.0</td>\n",
       "      <td>0.0</td>\n",
       "      <td>0.0</td>\n",
       "      <td>0.0</td>\n",
       "      <td>0.0</td>\n",
       "      <td>0.0</td>\n",
       "      <td>0.0</td>\n",
       "      <td>0</td>\n",
       "    </tr>\n",
       "  </tbody>\n",
       "</table>\n",
       "<p>5 rows × 91 columns</p>\n",
       "</div>"
      ],
      "text/plain": [
       "   time_left  ct_score  t_score  map  bomb_planted  ct_health  t_health  \\\n",
       "0     175.00       0.0      0.0    1             0      500.0     500.0   \n",
       "1     156.03       0.0      0.0    1             0      500.0     500.0   \n",
       "2      96.03       0.0      0.0    1             0      391.0     400.0   \n",
       "3      76.03       0.0      0.0    1             0      391.0     400.0   \n",
       "4     174.97       1.0      0.0    1             0      500.0     500.0   \n",
       "\n",
       "   ct_armor  t_armor  ct_money  ...  t_grenade_flashbang  \\\n",
       "0       0.0      0.0    4000.0  ...                  0.0   \n",
       "1     400.0    300.0     600.0  ...                  0.0   \n",
       "2     294.0    200.0     750.0  ...                  0.0   \n",
       "3     294.0    200.0     750.0  ...                  0.0   \n",
       "4     192.0      0.0   18350.0  ...                  0.0   \n",
       "\n",
       "   ct_grenade_smokegrenade  t_grenade_smokegrenade  \\\n",
       "0                      0.0                     0.0   \n",
       "1                      0.0                     2.0   \n",
       "2                      0.0                     2.0   \n",
       "3                      0.0                     0.0   \n",
       "4                      0.0                     0.0   \n",
       "\n",
       "   ct_grenade_incendiarygrenade  t_grenade_incendiarygrenade  \\\n",
       "0                           0.0                          0.0   \n",
       "1                           0.0                          0.0   \n",
       "2                           0.0                          0.0   \n",
       "3                           0.0                          0.0   \n",
       "4                           0.0                          0.0   \n",
       "\n",
       "   ct_grenade_molotovgrenade  t_grenade_molotovgrenade  \\\n",
       "0                        0.0                       0.0   \n",
       "1                        0.0                       0.0   \n",
       "2                        0.0                       0.0   \n",
       "3                        0.0                       0.0   \n",
       "4                        0.0                       0.0   \n",
       "\n",
       "   ct_grenade_decoygrenade  t_grenade_decoygrenade  round_winner  \n",
       "0                      0.0                     0.0             0  \n",
       "1                      0.0                     0.0             0  \n",
       "2                      0.0                     0.0             0  \n",
       "3                      0.0                     0.0             0  \n",
       "4                      0.0                     0.0             0  \n",
       "\n",
       "[5 rows x 91 columns]"
      ]
     },
     "execution_count": 84,
     "metadata": {},
     "output_type": "execute_result"
    }
   ],
   "source": [
    "df.head()"
   ]
  },
  {
   "cell_type": "code",
   "execution_count": 85,
   "metadata": {},
   "outputs": [],
   "source": [
    "col = df.columns"
   ]
  },
  {
   "cell_type": "code",
   "execution_count": 86,
   "metadata": {},
   "outputs": [],
   "source": [
    "c = []\n",
    "for i in col:\n",
    "    c.append(df['round_winner'].corr(df[i]))"
   ]
  },
  {
   "cell_type": "code",
   "execution_count": 87,
   "metadata": {},
   "outputs": [
    {
     "name": "stdout",
     "output_type": "stream",
     "text": [
      "<class 'pandas.core.frame.DataFrame'>\n",
      "RangeIndex: 122410 entries, 0 to 122409\n",
      "Data columns (total 91 columns):\n",
      "time_left                       122410 non-null float64\n",
      "ct_score                        122410 non-null float64\n",
      "t_score                         122410 non-null float64\n",
      "map                             122410 non-null int32\n",
      "bomb_planted                    122410 non-null int64\n",
      "ct_health                       122410 non-null float64\n",
      "t_health                        122410 non-null float64\n",
      "ct_armor                        122410 non-null float64\n",
      "t_armor                         122410 non-null float64\n",
      "ct_money                        122410 non-null float64\n",
      "t_money                         122410 non-null float64\n",
      "ct_helmets                      122410 non-null float64\n",
      "t_helmets                       122410 non-null float64\n",
      "ct_defuse_kits                  122410 non-null float64\n",
      "ct_players_alive                122410 non-null float64\n",
      "t_players_alive                 122410 non-null float64\n",
      "ct_weapon_ak47                  122410 non-null float64\n",
      "t_weapon_ak47                   122410 non-null float64\n",
      "ct_weapon_aug                   122410 non-null float64\n",
      "t_weapon_aug                    122410 non-null float64\n",
      "ct_weapon_awp                   122410 non-null float64\n",
      "t_weapon_awp                    122410 non-null float64\n",
      "t_weapon_bizon                  122410 non-null float64\n",
      "ct_weapon_cz75auto              122410 non-null float64\n",
      "t_weapon_cz75auto               122410 non-null float64\n",
      "ct_weapon_elite                 122410 non-null float64\n",
      "t_weapon_elite                  122410 non-null float64\n",
      "ct_weapon_famas                 122410 non-null float64\n",
      "t_weapon_famas                  122410 non-null float64\n",
      "t_weapon_g3sg1                  122410 non-null float64\n",
      "ct_weapon_galilar               122410 non-null float64\n",
      "t_weapon_galilar                122410 non-null float64\n",
      "ct_weapon_glock                 122410 non-null float64\n",
      "t_weapon_glock                  122410 non-null float64\n",
      "ct_weapon_m249                  122410 non-null float64\n",
      "ct_weapon_m4a1s                 122410 non-null float64\n",
      "t_weapon_m4a1s                  122410 non-null float64\n",
      "ct_weapon_m4a4                  122410 non-null float64\n",
      "t_weapon_m4a4                   122410 non-null float64\n",
      "ct_weapon_mac10                 122410 non-null float64\n",
      "t_weapon_mac10                  122410 non-null float64\n",
      "ct_weapon_mag7                  122410 non-null float64\n",
      "t_weapon_mag7                   122410 non-null float64\n",
      "ct_weapon_mp5sd                 122410 non-null float64\n",
      "t_weapon_mp5sd                  122410 non-null float64\n",
      "ct_weapon_mp7                   122410 non-null float64\n",
      "t_weapon_mp7                    122410 non-null float64\n",
      "ct_weapon_mp9                   122410 non-null float64\n",
      "t_weapon_mp9                    122410 non-null float64\n",
      "t_weapon_negev                  122410 non-null float64\n",
      "ct_weapon_nova                  122410 non-null float64\n",
      "t_weapon_nova                   122410 non-null float64\n",
      "ct_weapon_p90                   122410 non-null float64\n",
      "t_weapon_p90                    122410 non-null float64\n",
      "t_weapon_r8revolver             122410 non-null float64\n",
      "t_weapon_sawedoff               122410 non-null float64\n",
      "ct_weapon_scar20                122410 non-null float64\n",
      "t_weapon_scar20                 122410 non-null float64\n",
      "ct_weapon_sg553                 122410 non-null float64\n",
      "t_weapon_sg553                  122410 non-null float64\n",
      "ct_weapon_ssg08                 122410 non-null float64\n",
      "t_weapon_ssg08                  122410 non-null float64\n",
      "ct_weapon_ump45                 122410 non-null float64\n",
      "t_weapon_ump45                  122410 non-null float64\n",
      "ct_weapon_xm1014                122410 non-null float64\n",
      "t_weapon_xm1014                 122410 non-null float64\n",
      "ct_weapon_deagle                122410 non-null float64\n",
      "t_weapon_deagle                 122410 non-null float64\n",
      "ct_weapon_fiveseven             122410 non-null float64\n",
      "t_weapon_fiveseven              122410 non-null float64\n",
      "ct_weapon_usps                  122410 non-null float64\n",
      "t_weapon_usps                   122410 non-null float64\n",
      "ct_weapon_p250                  122410 non-null float64\n",
      "t_weapon_p250                   122410 non-null float64\n",
      "ct_weapon_p2000                 122410 non-null float64\n",
      "t_weapon_p2000                  122410 non-null float64\n",
      "ct_weapon_tec9                  122410 non-null float64\n",
      "t_weapon_tec9                   122410 non-null float64\n",
      "ct_grenade_hegrenade            122410 non-null float64\n",
      "t_grenade_hegrenade             122410 non-null float64\n",
      "ct_grenade_flashbang            122410 non-null float64\n",
      "t_grenade_flashbang             122410 non-null float64\n",
      "ct_grenade_smokegrenade         122410 non-null float64\n",
      "t_grenade_smokegrenade          122410 non-null float64\n",
      "ct_grenade_incendiarygrenade    122410 non-null float64\n",
      "t_grenade_incendiarygrenade     122410 non-null float64\n",
      "ct_grenade_molotovgrenade       122410 non-null float64\n",
      "t_grenade_molotovgrenade        122410 non-null float64\n",
      "ct_grenade_decoygrenade         122410 non-null float64\n",
      "t_grenade_decoygrenade          122410 non-null float64\n",
      "round_winner                    122410 non-null int32\n",
      "dtypes: float64(88), int32(2), int64(1)\n",
      "memory usage: 84.1 MB\n"
     ]
    }
   ],
   "source": [
    "df.info()"
   ]
  },
  {
   "cell_type": "markdown",
   "metadata": {},
   "source": [
    "### Normalizing the data using Standard Scalar"
   ]
  },
  {
   "cell_type": "code",
   "execution_count": 88,
   "metadata": {},
   "outputs": [],
   "source": [
    "standscl = preprocessing.StandardScaler()"
   ]
  },
  {
   "cell_type": "code",
   "execution_count": 89,
   "metadata": {},
   "outputs": [
    {
     "data": {
      "text/plain": [
       "StandardScaler(copy=True, with_mean=True, with_std=True)"
      ]
     },
     "execution_count": 89,
     "metadata": {},
     "output_type": "execute_result"
    }
   ],
   "source": [
    "standscl.fit(df)"
   ]
  },
  {
   "cell_type": "code",
   "execution_count": 90,
   "metadata": {},
   "outputs": [
    {
     "data": {
      "text/plain": [
       "array([[ 1.41582771, -1.40057607, -1.40570151, ..., -0.16335636,\n",
       "        -0.15685461, -1.01981894],\n",
       "       [ 1.06753073, -1.40057607, -1.40570151, ..., -0.16335636,\n",
       "        -0.15685461, -1.01981894],\n",
       "       [-0.03409385, -1.40057607, -1.40570151, ..., -0.16335636,\n",
       "        -0.15685461, -1.01981894],\n",
       "       ...,\n",
       "       [ 0.31291789,  0.89571055,  1.70405824, ..., -0.16335636,\n",
       "        -0.15685461,  0.98056622],\n",
       "       [-0.0542903 ,  0.89571055,  1.70405824, ..., -0.16335636,\n",
       "        -0.15685461,  0.98056622],\n",
       "       [-0.4214985 ,  0.89571055,  1.70405824, ..., -0.16335636,\n",
       "        -0.15685461,  0.98056622]])"
      ]
     },
     "execution_count": 90,
     "metadata": {},
     "output_type": "execute_result"
    }
   ],
   "source": [
    "standscl.transform(df)"
   ]
  },
  {
   "cell_type": "code",
   "execution_count": 91,
   "metadata": {},
   "outputs": [],
   "source": [
    "df = standscl.transform(df)"
   ]
  },
  {
   "cell_type": "code",
   "execution_count": 92,
   "metadata": {},
   "outputs": [],
   "source": [
    "df = pd.DataFrame(df, columns = col)"
   ]
  },
  {
   "cell_type": "code",
   "execution_count": 93,
   "metadata": {},
   "outputs": [
    {
     "data": {
      "text/html": [
       "<div>\n",
       "<style scoped>\n",
       "    .dataframe tbody tr th:only-of-type {\n",
       "        vertical-align: middle;\n",
       "    }\n",
       "\n",
       "    .dataframe tbody tr th {\n",
       "        vertical-align: top;\n",
       "    }\n",
       "\n",
       "    .dataframe thead th {\n",
       "        text-align: right;\n",
       "    }\n",
       "</style>\n",
       "<table border=\"1\" class=\"dataframe\">\n",
       "  <thead>\n",
       "    <tr style=\"text-align: right;\">\n",
       "      <th></th>\n",
       "      <th>time_left</th>\n",
       "      <th>ct_score</th>\n",
       "      <th>t_score</th>\n",
       "      <th>map</th>\n",
       "      <th>bomb_planted</th>\n",
       "      <th>ct_health</th>\n",
       "      <th>t_health</th>\n",
       "      <th>ct_armor</th>\n",
       "      <th>t_armor</th>\n",
       "      <th>ct_money</th>\n",
       "      <th>...</th>\n",
       "      <th>t_grenade_flashbang</th>\n",
       "      <th>ct_grenade_smokegrenade</th>\n",
       "      <th>t_grenade_smokegrenade</th>\n",
       "      <th>ct_grenade_incendiarygrenade</th>\n",
       "      <th>t_grenade_incendiarygrenade</th>\n",
       "      <th>ct_grenade_molotovgrenade</th>\n",
       "      <th>t_grenade_molotovgrenade</th>\n",
       "      <th>ct_grenade_decoygrenade</th>\n",
       "      <th>t_grenade_decoygrenade</th>\n",
       "      <th>round_winner</th>\n",
       "    </tr>\n",
       "  </thead>\n",
       "  <tbody>\n",
       "    <tr>\n",
       "      <td>0</td>\n",
       "      <td>1.415828</td>\n",
       "      <td>-1.400576</td>\n",
       "      <td>-1.405702</td>\n",
       "      <td>-1.30641</td>\n",
       "      <td>-0.354764</td>\n",
       "      <td>0.664386</td>\n",
       "      <td>0.695301</td>\n",
       "      <td>-1.836777</td>\n",
       "      <td>-1.709542</td>\n",
       "      <td>-0.516186</td>\n",
       "      <td>...</td>\n",
       "      <td>-1.035461</td>\n",
       "      <td>-0.886648</td>\n",
       "      <td>-0.889569</td>\n",
       "      <td>-0.687185</td>\n",
       "      <td>-0.137694</td>\n",
       "      <td>-0.210881</td>\n",
       "      <td>-0.812929</td>\n",
       "      <td>-0.163356</td>\n",
       "      <td>-0.156855</td>\n",
       "      <td>-1.019819</td>\n",
       "    </tr>\n",
       "    <tr>\n",
       "      <td>1</td>\n",
       "      <td>1.067531</td>\n",
       "      <td>-1.400576</td>\n",
       "      <td>-1.405702</td>\n",
       "      <td>-1.30641</td>\n",
       "      <td>-0.354764</td>\n",
       "      <td>0.664386</td>\n",
       "      <td>0.695301</td>\n",
       "      <td>0.502008</td>\n",
       "      <td>0.008909</td>\n",
       "      <td>-0.819351</td>\n",
       "      <td>...</td>\n",
       "      <td>-1.035461</td>\n",
       "      <td>-0.886648</td>\n",
       "      <td>0.203841</td>\n",
       "      <td>-0.687185</td>\n",
       "      <td>-0.137694</td>\n",
       "      <td>-0.210881</td>\n",
       "      <td>-0.812929</td>\n",
       "      <td>-0.163356</td>\n",
       "      <td>-0.156855</td>\n",
       "      <td>-1.019819</td>\n",
       "    </tr>\n",
       "    <tr>\n",
       "      <td>2</td>\n",
       "      <td>-0.034094</td>\n",
       "      <td>-1.400576</td>\n",
       "      <td>-1.405702</td>\n",
       "      <td>-1.30641</td>\n",
       "      <td>-0.354764</td>\n",
       "      <td>-0.159544</td>\n",
       "      <td>-0.019401</td>\n",
       "      <td>-0.117770</td>\n",
       "      <td>-0.563908</td>\n",
       "      <td>-0.805977</td>\n",
       "      <td>...</td>\n",
       "      <td>-1.035461</td>\n",
       "      <td>-0.886648</td>\n",
       "      <td>0.203841</td>\n",
       "      <td>-0.687185</td>\n",
       "      <td>-0.137694</td>\n",
       "      <td>-0.210881</td>\n",
       "      <td>-0.812929</td>\n",
       "      <td>-0.163356</td>\n",
       "      <td>-0.156855</td>\n",
       "      <td>-1.019819</td>\n",
       "    </tr>\n",
       "    <tr>\n",
       "      <td>3</td>\n",
       "      <td>-0.401302</td>\n",
       "      <td>-1.400576</td>\n",
       "      <td>-1.405702</td>\n",
       "      <td>-1.30641</td>\n",
       "      <td>-0.354764</td>\n",
       "      <td>-0.159544</td>\n",
       "      <td>-0.019401</td>\n",
       "      <td>-0.117770</td>\n",
       "      <td>-0.563908</td>\n",
       "      <td>-0.805977</td>\n",
       "      <td>...</td>\n",
       "      <td>-1.035461</td>\n",
       "      <td>-0.886648</td>\n",
       "      <td>-0.889569</td>\n",
       "      <td>-0.687185</td>\n",
       "      <td>-0.137694</td>\n",
       "      <td>-0.210881</td>\n",
       "      <td>-0.812929</td>\n",
       "      <td>-0.163356</td>\n",
       "      <td>-0.156855</td>\n",
       "      <td>-1.019819</td>\n",
       "    </tr>\n",
       "    <tr>\n",
       "      <td>4</td>\n",
       "      <td>1.415277</td>\n",
       "      <td>-1.191823</td>\n",
       "      <td>-1.405702</td>\n",
       "      <td>-1.30641</td>\n",
       "      <td>-0.354764</td>\n",
       "      <td>0.664386</td>\n",
       "      <td>0.695301</td>\n",
       "      <td>-0.714160</td>\n",
       "      <td>-1.709542</td>\n",
       "      <td>0.763351</td>\n",
       "      <td>...</td>\n",
       "      <td>-1.035461</td>\n",
       "      <td>-0.886648</td>\n",
       "      <td>-0.889569</td>\n",
       "      <td>-0.687185</td>\n",
       "      <td>-0.137694</td>\n",
       "      <td>-0.210881</td>\n",
       "      <td>-0.812929</td>\n",
       "      <td>-0.163356</td>\n",
       "      <td>-0.156855</td>\n",
       "      <td>-1.019819</td>\n",
       "    </tr>\n",
       "  </tbody>\n",
       "</table>\n",
       "<p>5 rows × 91 columns</p>\n",
       "</div>"
      ],
      "text/plain": [
       "   time_left  ct_score   t_score      map  bomb_planted  ct_health  t_health  \\\n",
       "0   1.415828 -1.400576 -1.405702 -1.30641     -0.354764   0.664386  0.695301   \n",
       "1   1.067531 -1.400576 -1.405702 -1.30641     -0.354764   0.664386  0.695301   \n",
       "2  -0.034094 -1.400576 -1.405702 -1.30641     -0.354764  -0.159544 -0.019401   \n",
       "3  -0.401302 -1.400576 -1.405702 -1.30641     -0.354764  -0.159544 -0.019401   \n",
       "4   1.415277 -1.191823 -1.405702 -1.30641     -0.354764   0.664386  0.695301   \n",
       "\n",
       "   ct_armor   t_armor  ct_money  ...  t_grenade_flashbang  \\\n",
       "0 -1.836777 -1.709542 -0.516186  ...            -1.035461   \n",
       "1  0.502008  0.008909 -0.819351  ...            -1.035461   \n",
       "2 -0.117770 -0.563908 -0.805977  ...            -1.035461   \n",
       "3 -0.117770 -0.563908 -0.805977  ...            -1.035461   \n",
       "4 -0.714160 -1.709542  0.763351  ...            -1.035461   \n",
       "\n",
       "   ct_grenade_smokegrenade  t_grenade_smokegrenade  \\\n",
       "0                -0.886648               -0.889569   \n",
       "1                -0.886648                0.203841   \n",
       "2                -0.886648                0.203841   \n",
       "3                -0.886648               -0.889569   \n",
       "4                -0.886648               -0.889569   \n",
       "\n",
       "   ct_grenade_incendiarygrenade  t_grenade_incendiarygrenade  \\\n",
       "0                     -0.687185                    -0.137694   \n",
       "1                     -0.687185                    -0.137694   \n",
       "2                     -0.687185                    -0.137694   \n",
       "3                     -0.687185                    -0.137694   \n",
       "4                     -0.687185                    -0.137694   \n",
       "\n",
       "   ct_grenade_molotovgrenade  t_grenade_molotovgrenade  \\\n",
       "0                  -0.210881                 -0.812929   \n",
       "1                  -0.210881                 -0.812929   \n",
       "2                  -0.210881                 -0.812929   \n",
       "3                  -0.210881                 -0.812929   \n",
       "4                  -0.210881                 -0.812929   \n",
       "\n",
       "   ct_grenade_decoygrenade  t_grenade_decoygrenade  round_winner  \n",
       "0                -0.163356               -0.156855     -1.019819  \n",
       "1                -0.163356               -0.156855     -1.019819  \n",
       "2                -0.163356               -0.156855     -1.019819  \n",
       "3                -0.163356               -0.156855     -1.019819  \n",
       "4                -0.163356               -0.156855     -1.019819  \n",
       "\n",
       "[5 rows x 91 columns]"
      ]
     },
     "execution_count": 93,
     "metadata": {},
     "output_type": "execute_result"
    }
   ],
   "source": [
    "df.head()"
   ]
  },
  {
   "cell_type": "code",
   "execution_count": 94,
   "metadata": {},
   "outputs": [],
   "source": [
    "df['round_winner'] = label_encoder.fit_transform(df['round_winner'])"
   ]
  },
  {
   "cell_type": "markdown",
   "metadata": {},
   "source": [
    "### Splitting the data into X and Y"
   ]
  },
  {
   "cell_type": "code",
   "execution_count": 95,
   "metadata": {},
   "outputs": [],
   "source": [
    "x = df.drop('round_winner', axis = 1)"
   ]
  },
  {
   "cell_type": "code",
   "execution_count": 96,
   "metadata": {},
   "outputs": [
    {
     "data": {
      "text/html": [
       "<div>\n",
       "<style scoped>\n",
       "    .dataframe tbody tr th:only-of-type {\n",
       "        vertical-align: middle;\n",
       "    }\n",
       "\n",
       "    .dataframe tbody tr th {\n",
       "        vertical-align: top;\n",
       "    }\n",
       "\n",
       "    .dataframe thead th {\n",
       "        text-align: right;\n",
       "    }\n",
       "</style>\n",
       "<table border=\"1\" class=\"dataframe\">\n",
       "  <thead>\n",
       "    <tr style=\"text-align: right;\">\n",
       "      <th></th>\n",
       "      <th>time_left</th>\n",
       "      <th>ct_score</th>\n",
       "      <th>t_score</th>\n",
       "      <th>map</th>\n",
       "      <th>bomb_planted</th>\n",
       "      <th>ct_health</th>\n",
       "      <th>t_health</th>\n",
       "      <th>ct_armor</th>\n",
       "      <th>t_armor</th>\n",
       "      <th>ct_money</th>\n",
       "      <th>...</th>\n",
       "      <th>ct_grenade_flashbang</th>\n",
       "      <th>t_grenade_flashbang</th>\n",
       "      <th>ct_grenade_smokegrenade</th>\n",
       "      <th>t_grenade_smokegrenade</th>\n",
       "      <th>ct_grenade_incendiarygrenade</th>\n",
       "      <th>t_grenade_incendiarygrenade</th>\n",
       "      <th>ct_grenade_molotovgrenade</th>\n",
       "      <th>t_grenade_molotovgrenade</th>\n",
       "      <th>ct_grenade_decoygrenade</th>\n",
       "      <th>t_grenade_decoygrenade</th>\n",
       "    </tr>\n",
       "  </thead>\n",
       "  <tbody>\n",
       "    <tr>\n",
       "      <td>0</td>\n",
       "      <td>1.415828</td>\n",
       "      <td>-1.400576</td>\n",
       "      <td>-1.405702</td>\n",
       "      <td>-1.30641</td>\n",
       "      <td>-0.354764</td>\n",
       "      <td>0.664386</td>\n",
       "      <td>0.695301</td>\n",
       "      <td>-1.836777</td>\n",
       "      <td>-1.709542</td>\n",
       "      <td>-0.516186</td>\n",
       "      <td>...</td>\n",
       "      <td>-1.045338</td>\n",
       "      <td>-1.035461</td>\n",
       "      <td>-0.886648</td>\n",
       "      <td>-0.889569</td>\n",
       "      <td>-0.687185</td>\n",
       "      <td>-0.137694</td>\n",
       "      <td>-0.210881</td>\n",
       "      <td>-0.812929</td>\n",
       "      <td>-0.163356</td>\n",
       "      <td>-0.156855</td>\n",
       "    </tr>\n",
       "    <tr>\n",
       "      <td>1</td>\n",
       "      <td>1.067531</td>\n",
       "      <td>-1.400576</td>\n",
       "      <td>-1.405702</td>\n",
       "      <td>-1.30641</td>\n",
       "      <td>-0.354764</td>\n",
       "      <td>0.664386</td>\n",
       "      <td>0.695301</td>\n",
       "      <td>0.502008</td>\n",
       "      <td>0.008909</td>\n",
       "      <td>-0.819351</td>\n",
       "      <td>...</td>\n",
       "      <td>-1.045338</td>\n",
       "      <td>-1.035461</td>\n",
       "      <td>-0.886648</td>\n",
       "      <td>0.203841</td>\n",
       "      <td>-0.687185</td>\n",
       "      <td>-0.137694</td>\n",
       "      <td>-0.210881</td>\n",
       "      <td>-0.812929</td>\n",
       "      <td>-0.163356</td>\n",
       "      <td>-0.156855</td>\n",
       "    </tr>\n",
       "    <tr>\n",
       "      <td>2</td>\n",
       "      <td>-0.034094</td>\n",
       "      <td>-1.400576</td>\n",
       "      <td>-1.405702</td>\n",
       "      <td>-1.30641</td>\n",
       "      <td>-0.354764</td>\n",
       "      <td>-0.159544</td>\n",
       "      <td>-0.019401</td>\n",
       "      <td>-0.117770</td>\n",
       "      <td>-0.563908</td>\n",
       "      <td>-0.805977</td>\n",
       "      <td>...</td>\n",
       "      <td>-1.045338</td>\n",
       "      <td>-1.035461</td>\n",
       "      <td>-0.886648</td>\n",
       "      <td>0.203841</td>\n",
       "      <td>-0.687185</td>\n",
       "      <td>-0.137694</td>\n",
       "      <td>-0.210881</td>\n",
       "      <td>-0.812929</td>\n",
       "      <td>-0.163356</td>\n",
       "      <td>-0.156855</td>\n",
       "    </tr>\n",
       "    <tr>\n",
       "      <td>3</td>\n",
       "      <td>-0.401302</td>\n",
       "      <td>-1.400576</td>\n",
       "      <td>-1.405702</td>\n",
       "      <td>-1.30641</td>\n",
       "      <td>-0.354764</td>\n",
       "      <td>-0.159544</td>\n",
       "      <td>-0.019401</td>\n",
       "      <td>-0.117770</td>\n",
       "      <td>-0.563908</td>\n",
       "      <td>-0.805977</td>\n",
       "      <td>...</td>\n",
       "      <td>-1.045338</td>\n",
       "      <td>-1.035461</td>\n",
       "      <td>-0.886648</td>\n",
       "      <td>-0.889569</td>\n",
       "      <td>-0.687185</td>\n",
       "      <td>-0.137694</td>\n",
       "      <td>-0.210881</td>\n",
       "      <td>-0.812929</td>\n",
       "      <td>-0.163356</td>\n",
       "      <td>-0.156855</td>\n",
       "    </tr>\n",
       "    <tr>\n",
       "      <td>4</td>\n",
       "      <td>1.415277</td>\n",
       "      <td>-1.191823</td>\n",
       "      <td>-1.405702</td>\n",
       "      <td>-1.30641</td>\n",
       "      <td>-0.354764</td>\n",
       "      <td>0.664386</td>\n",
       "      <td>0.695301</td>\n",
       "      <td>-0.714160</td>\n",
       "      <td>-1.709542</td>\n",
       "      <td>0.763351</td>\n",
       "      <td>...</td>\n",
       "      <td>-1.045338</td>\n",
       "      <td>-1.035461</td>\n",
       "      <td>-0.886648</td>\n",
       "      <td>-0.889569</td>\n",
       "      <td>-0.687185</td>\n",
       "      <td>-0.137694</td>\n",
       "      <td>-0.210881</td>\n",
       "      <td>-0.812929</td>\n",
       "      <td>-0.163356</td>\n",
       "      <td>-0.156855</td>\n",
       "    </tr>\n",
       "  </tbody>\n",
       "</table>\n",
       "<p>5 rows × 90 columns</p>\n",
       "</div>"
      ],
      "text/plain": [
       "   time_left  ct_score   t_score      map  bomb_planted  ct_health  t_health  \\\n",
       "0   1.415828 -1.400576 -1.405702 -1.30641     -0.354764   0.664386  0.695301   \n",
       "1   1.067531 -1.400576 -1.405702 -1.30641     -0.354764   0.664386  0.695301   \n",
       "2  -0.034094 -1.400576 -1.405702 -1.30641     -0.354764  -0.159544 -0.019401   \n",
       "3  -0.401302 -1.400576 -1.405702 -1.30641     -0.354764  -0.159544 -0.019401   \n",
       "4   1.415277 -1.191823 -1.405702 -1.30641     -0.354764   0.664386  0.695301   \n",
       "\n",
       "   ct_armor   t_armor  ct_money  ...  ct_grenade_flashbang  \\\n",
       "0 -1.836777 -1.709542 -0.516186  ...             -1.045338   \n",
       "1  0.502008  0.008909 -0.819351  ...             -1.045338   \n",
       "2 -0.117770 -0.563908 -0.805977  ...             -1.045338   \n",
       "3 -0.117770 -0.563908 -0.805977  ...             -1.045338   \n",
       "4 -0.714160 -1.709542  0.763351  ...             -1.045338   \n",
       "\n",
       "   t_grenade_flashbang  ct_grenade_smokegrenade  t_grenade_smokegrenade  \\\n",
       "0            -1.035461                -0.886648               -0.889569   \n",
       "1            -1.035461                -0.886648                0.203841   \n",
       "2            -1.035461                -0.886648                0.203841   \n",
       "3            -1.035461                -0.886648               -0.889569   \n",
       "4            -1.035461                -0.886648               -0.889569   \n",
       "\n",
       "   ct_grenade_incendiarygrenade  t_grenade_incendiarygrenade  \\\n",
       "0                     -0.687185                    -0.137694   \n",
       "1                     -0.687185                    -0.137694   \n",
       "2                     -0.687185                    -0.137694   \n",
       "3                     -0.687185                    -0.137694   \n",
       "4                     -0.687185                    -0.137694   \n",
       "\n",
       "   ct_grenade_molotovgrenade  t_grenade_molotovgrenade  \\\n",
       "0                  -0.210881                 -0.812929   \n",
       "1                  -0.210881                 -0.812929   \n",
       "2                  -0.210881                 -0.812929   \n",
       "3                  -0.210881                 -0.812929   \n",
       "4                  -0.210881                 -0.812929   \n",
       "\n",
       "   ct_grenade_decoygrenade  t_grenade_decoygrenade  \n",
       "0                -0.163356               -0.156855  \n",
       "1                -0.163356               -0.156855  \n",
       "2                -0.163356               -0.156855  \n",
       "3                -0.163356               -0.156855  \n",
       "4                -0.163356               -0.156855  \n",
       "\n",
       "[5 rows x 90 columns]"
      ]
     },
     "execution_count": 96,
     "metadata": {},
     "output_type": "execute_result"
    }
   ],
   "source": [
    "x.head()"
   ]
  },
  {
   "cell_type": "code",
   "execution_count": 97,
   "metadata": {},
   "outputs": [],
   "source": [
    "y = df['round_winner']"
   ]
  },
  {
   "cell_type": "code",
   "execution_count": 98,
   "metadata": {},
   "outputs": [
    {
     "data": {
      "text/plain": [
       "0    0\n",
       "1    0\n",
       "2    0\n",
       "3    0\n",
       "4    0\n",
       "Name: round_winner, dtype: int64"
      ]
     },
     "execution_count": 98,
     "metadata": {},
     "output_type": "execute_result"
    }
   ],
   "source": [
    "y.head()"
   ]
  },
  {
   "cell_type": "markdown",
   "metadata": {},
   "source": [
    "### Train Test Split"
   ]
  },
  {
   "cell_type": "code",
   "execution_count": 99,
   "metadata": {},
   "outputs": [],
   "source": [
    "x_train, x_test, y_train, y_test = train_test_split(x, y, test_size = 0.2, random_state = 42)"
   ]
  },
  {
   "cell_type": "markdown",
   "metadata": {},
   "source": [
    "## Training and Evaluation"
   ]
  },
  {
   "cell_type": "code",
   "execution_count": 100,
   "metadata": {},
   "outputs": [
    {
     "name": "stderr",
     "output_type": "stream",
     "text": [
      "C:\\Users\\ananth\\Anaconda3\\lib\\site-packages\\sklearn\\linear_model\\logistic.py:432: FutureWarning: Default solver will be changed to 'lbfgs' in 0.22. Specify a solver to silence this warning.\n",
      "  FutureWarning)\n"
     ]
    },
    {
     "name": "stdout",
     "output_type": "stream",
     "text": [
      "              precision    recall  f1-score   support\n",
      "\n",
      "           0       0.74      0.76      0.75     12004\n",
      "           1       0.76      0.74      0.75     12478\n",
      "\n",
      "    accuracy                           0.75     24482\n",
      "   macro avg       0.75      0.75      0.75     24482\n",
      "weighted avg       0.75      0.75      0.75     24482\n",
      "\n"
     ]
    }
   ],
   "source": [
    "model_1 = LogisticRegression()\n",
    "model_1.fit(x_train,y_train)\n",
    "pred_1 = model_1.predict(x_test)\n",
    "cr1    = classification_report(y_test,pred_1)\n",
    "print(cr1)"
   ]
  },
  {
   "cell_type": "code",
   "execution_count": 101,
   "metadata": {},
   "outputs": [
    {
     "name": "stdout",
     "output_type": "stream",
     "text": [
      "              precision    recall  f1-score   support\n",
      "\n",
      "           0       0.82      0.82      0.82     12004\n",
      "           1       0.82      0.82      0.82     12478\n",
      "\n",
      "    accuracy                           0.82     24482\n",
      "   macro avg       0.82      0.82      0.82     24482\n",
      "weighted avg       0.82      0.82      0.82     24482\n",
      "\n"
     ]
    }
   ],
   "source": [
    "model_3 = DecisionTreeClassifier()\n",
    "model_3.fit(x_train,y_train)\n",
    "pred_3 = model_3.predict(x_test)\n",
    "cr3    = classification_report(y_test,pred_3)\n",
    "print(cr3)"
   ]
  },
  {
   "cell_type": "code",
   "execution_count": 102,
   "metadata": {},
   "outputs": [
    {
     "name": "stderr",
     "output_type": "stream",
     "text": [
      "C:\\Users\\ananth\\Anaconda3\\lib\\site-packages\\sklearn\\ensemble\\forest.py:245: FutureWarning: The default value of n_estimators will change from 10 in version 0.20 to 100 in 0.22.\n",
      "  \"10 in version 0.20 to 100 in 0.22.\", FutureWarning)\n"
     ]
    },
    {
     "name": "stdout",
     "output_type": "stream",
     "text": [
      "              precision    recall  f1-score   support\n",
      "\n",
      "           0       0.82      0.88      0.85     12004\n",
      "           1       0.88      0.82      0.85     12478\n",
      "\n",
      "    accuracy                           0.85     24482\n",
      "   macro avg       0.85      0.85      0.85     24482\n",
      "weighted avg       0.85      0.85      0.85     24482\n",
      "\n"
     ]
    }
   ],
   "source": [
    "model_4 = RandomForestClassifier()\n",
    "model_4.fit(x_train,y_train)\n",
    "pred_4 = model_4.predict(x_test)\n",
    "cr4    = classification_report(y_test,pred_4)\n",
    "print(cr4)"
   ]
  },
  {
   "cell_type": "code",
   "execution_count": 103,
   "metadata": {},
   "outputs": [
    {
     "name": "stdout",
     "output_type": "stream",
     "text": [
      "              precision    recall  f1-score   support\n",
      "\n",
      "           0       0.73      0.80      0.76     12004\n",
      "           1       0.79      0.72      0.75     12478\n",
      "\n",
      "    accuracy                           0.76     24482\n",
      "   macro avg       0.76      0.76      0.76     24482\n",
      "weighted avg       0.76      0.76      0.76     24482\n",
      "\n"
     ]
    }
   ],
   "source": [
    "model_5 = XGBClassifier()\n",
    "model_5.fit(x_train,y_train)\n",
    "pred_5 = model_5.predict(x_test)\n",
    "cr5    = classification_report(y_test,pred_5)\n",
    "print(cr5)"
   ]
  },
  {
   "cell_type": "code",
   "execution_count": 104,
   "metadata": {},
   "outputs": [
    {
     "name": "stdout",
     "output_type": "stream",
     "text": [
      "              precision    recall  f1-score   support\n",
      "\n",
      "           0       0.81      0.77      0.79     12004\n",
      "           1       0.79      0.83      0.81     12478\n",
      "\n",
      "    accuracy                           0.80     24482\n",
      "   macro avg       0.80      0.80      0.80     24482\n",
      "weighted avg       0.80      0.80      0.80     24482\n",
      "\n"
     ]
    },
    {
     "name": "stderr",
     "output_type": "stream",
     "text": [
      "C:\\Users\\ananth\\Anaconda3\\lib\\site-packages\\sklearn\\neural_network\\multilayer_perceptron.py:566: ConvergenceWarning: Stochastic Optimizer: Maximum iterations (200) reached and the optimization hasn't converged yet.\n",
      "  % self.max_iter, ConvergenceWarning)\n"
     ]
    }
   ],
   "source": [
    "model_6 = MLPClassifier()\n",
    "model_6.fit(x_train,y_train)\n",
    "pred_6 = model_6.predict(x_test)\n",
    "cr6    = classification_report(y_test,pred_6)\n",
    "print(cr6)"
   ]
  },
  {
   "cell_type": "code",
   "execution_count": 134,
   "metadata": {},
   "outputs": [
    {
     "name": "stdout",
     "output_type": "stream",
     "text": [
      "Optimal accuracy for random forest classifier: 84.8%\n"
     ]
    }
   ],
   "source": [
    "print('Optimal accuracy for random forest classifier:', str(round(accuracy_score(y_test,pred_4), 3)*100) + '%')"
   ]
  },
  {
   "cell_type": "code",
   "execution_count": null,
   "metadata": {},
   "outputs": [],
   "source": []
  }
 ],
 "metadata": {
  "kernelspec": {
   "display_name": "Python 3",
   "language": "python",
   "name": "python3"
  },
  "language_info": {
   "codemirror_mode": {
    "name": "ipython",
    "version": 3
   },
   "file_extension": ".py",
   "mimetype": "text/x-python",
   "name": "python",
   "nbconvert_exporter": "python",
   "pygments_lexer": "ipython3",
   "version": "3.7.4"
  }
 },
 "nbformat": 4,
 "nbformat_minor": 2
}
